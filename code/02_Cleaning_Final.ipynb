{
 "cells": [
  {
   "cell_type": "code",
   "execution_count": 1,
   "metadata": {},
   "outputs": [],
   "source": [
    "#In this notebook I am going to start with the dataframes that have been trimmed,\n",
    "#The nans and the posts marked '[removed]' have been removed so we start with better data."
   ]
  },
  {
   "cell_type": "code",
   "execution_count": 2,
   "metadata": {},
   "outputs": [],
   "source": [
    "import pandas as pd\n",
    "import numpy as np\n",
    "import matplotlib.pyplot as plt"
   ]
  },
  {
   "cell_type": "code",
   "execution_count": 3,
   "metadata": {},
   "outputs": [],
   "source": [
    "lpt_raw = pd.read_csv('./data/lpt_trimmed.csv')\n",
    "ulpt_raw = pd.read_csv('./data/ulpt_trimmed.csv')"
   ]
  },
  {
   "cell_type": "code",
   "execution_count": 4,
   "metadata": {},
   "outputs": [
    {
     "name": "stdout",
     "output_type": "stream",
     "text": [
      "<class 'pandas.core.frame.DataFrame'>\n",
      "RangeIndex: 7778 entries, 0 to 7777\n",
      "Data columns (total 72 columns):\n",
      " #   Column                         Non-Null Count  Dtype  \n",
      "---  ------                         --------------  -----  \n",
      " 0   Unnamed: 0                     7778 non-null   int64  \n",
      " 1   all_awardings                  7778 non-null   object \n",
      " 2   allow_live_comments            7778 non-null   bool   \n",
      " 3   author                         7778 non-null   object \n",
      " 4   author_flair_background_color  0 non-null      float64\n",
      " 5   author_flair_css_class         0 non-null      float64\n",
      " 6   author_flair_text              0 non-null      float64\n",
      " 7   author_flair_text_color        197 non-null    object \n",
      " 8   awarders                       7778 non-null   object \n",
      " 9   banned_by                      0 non-null      float64\n",
      " 10  can_mod_post                   7778 non-null   bool   \n",
      " 11  contest_mode                   7778 non-null   bool   \n",
      " 12  created_utc                    7778 non-null   int64  \n",
      " 13  domain                         7778 non-null   object \n",
      " 14  full_link                      7778 non-null   object \n",
      " 15  gildings                       7778 non-null   object \n",
      " 16  id                             7778 non-null   object \n",
      " 17  is_crosspostable               7778 non-null   bool   \n",
      " 18  is_meta                        7778 non-null   bool   \n",
      " 19  is_original_content            7778 non-null   bool   \n",
      " 20  is_reddit_media_domain         7778 non-null   bool   \n",
      " 21  is_robot_indexable             7778 non-null   bool   \n",
      " 22  is_self                        7778 non-null   bool   \n",
      " 23  is_video                       7778 non-null   bool   \n",
      " 24  link_flair_background_color    4503 non-null   object \n",
      " 25  link_flair_richtext            7778 non-null   object \n",
      " 26  link_flair_text_color          7778 non-null   object \n",
      " 27  link_flair_type                7778 non-null   object \n",
      " 28  locked                         7778 non-null   bool   \n",
      " 29  media_only                     7778 non-null   bool   \n",
      " 30  no_follow                      7778 non-null   bool   \n",
      " 31  num_comments                   7778 non-null   int64  \n",
      " 32  num_crossposts                 7778 non-null   int64  \n",
      " 33  over_18                        7778 non-null   bool   \n",
      " 34  parent_whitelist_status        7778 non-null   object \n",
      " 35  permalink                      7778 non-null   object \n",
      " 36  pinned                         7778 non-null   bool   \n",
      " 37  pwls                           7778 non-null   int64  \n",
      " 38  removed_by_category            195 non-null    object \n",
      " 39  retrieved_on                   7778 non-null   int64  \n",
      " 40  score                          7778 non-null   int64  \n",
      " 41  send_replies                   7778 non-null   bool   \n",
      " 42  spoiler                        7778 non-null   bool   \n",
      " 43  stickied                       7778 non-null   bool   \n",
      " 44  subreddit                      7778 non-null   object \n",
      " 45  subreddit_id                   7778 non-null   object \n",
      " 46  subreddit_subscribers          7778 non-null   int64  \n",
      " 47  subreddit_type                 7778 non-null   object \n",
      " 48  suggested_sort                 7778 non-null   object \n",
      " 49  thumbnail                      7778 non-null   object \n",
      " 50  title                          7778 non-null   object \n",
      " 51  total_awards_received          7778 non-null   int64  \n",
      " 52  treatment_tags                 7778 non-null   object \n",
      " 53  upvote_ratio                   7778 non-null   float64\n",
      " 54  url                            7778 non-null   object \n",
      " 55  whitelist_status               7778 non-null   object \n",
      " 56  wls                            7778 non-null   int64  \n",
      " 57  author_flair_richtext          7581 non-null   object \n",
      " 58  author_flair_type              7581 non-null   object \n",
      " 59  author_fullname                7581 non-null   object \n",
      " 60  author_patreon_flair           7581 non-null   object \n",
      " 61  author_premium                 7581 non-null   object \n",
      " 62  link_flair_css_class           4606 non-null   object \n",
      " 63  link_flair_template_id         4503 non-null   object \n",
      " 64  link_flair_text                4606 non-null   object \n",
      " 65  selftext                       7778 non-null   object \n",
      " 66  post_hint                      405 non-null    object \n",
      " 67  preview                        405 non-null    object \n",
      " 68  author_cakeday                 36 non-null     object \n",
      " 69  edited                         161 non-null    float64\n",
      " 70  gilded                         4 non-null      float64\n",
      " 71  top_awarded_type               2 non-null      object \n",
      "dtypes: bool(18), float64(7), int64(10), object(37)\n",
      "memory usage: 3.3+ MB\n"
     ]
    }
   ],
   "source": [
    "#Probably not necessary, but just in case lets check:\n",
    "lpt_raw.info()"
   ]
  },
  {
   "cell_type": "code",
   "execution_count": 5,
   "metadata": {},
   "outputs": [
    {
     "name": "stdout",
     "output_type": "stream",
     "text": [
      "<class 'pandas.core.frame.DataFrame'>\n",
      "RangeIndex: 7527 entries, 0 to 7526\n",
      "Data columns (total 75 columns):\n",
      " #   Column                         Non-Null Count  Dtype  \n",
      "---  ------                         --------------  -----  \n",
      " 0   Unnamed: 0                     7527 non-null   int64  \n",
      " 1   all_awardings                  7527 non-null   object \n",
      " 2   allow_live_comments            7527 non-null   bool   \n",
      " 3   author                         7527 non-null   object \n",
      " 4   author_flair_background_color  0 non-null      float64\n",
      " 5   author_flair_css_class         0 non-null      float64\n",
      " 6   author_flair_text              0 non-null      float64\n",
      " 7   author_flair_text_color        177 non-null    object \n",
      " 8   awarders                       7527 non-null   object \n",
      " 9   banned_by                      0 non-null      float64\n",
      " 10  can_mod_post                   7527 non-null   bool   \n",
      " 11  contest_mode                   7527 non-null   bool   \n",
      " 12  created_utc                    7527 non-null   int64  \n",
      " 13  domain                         7527 non-null   object \n",
      " 14  full_link                      7527 non-null   object \n",
      " 15  gildings                       7527 non-null   object \n",
      " 16  id                             7527 non-null   object \n",
      " 17  is_crosspostable               7527 non-null   bool   \n",
      " 18  is_meta                        7527 non-null   bool   \n",
      " 19  is_original_content            7527 non-null   bool   \n",
      " 20  is_reddit_media_domain         7527 non-null   bool   \n",
      " 21  is_robot_indexable             7527 non-null   bool   \n",
      " 22  is_self                        7527 non-null   bool   \n",
      " 23  is_video                       7527 non-null   bool   \n",
      " 24  link_flair_background_color    2978 non-null   object \n",
      " 25  link_flair_richtext            7527 non-null   object \n",
      " 26  link_flair_text_color          7527 non-null   object \n",
      " 27  link_flair_type                7527 non-null   object \n",
      " 28  locked                         7527 non-null   bool   \n",
      " 29  media_only                     7527 non-null   bool   \n",
      " 30  no_follow                      7527 non-null   bool   \n",
      " 31  num_comments                   7527 non-null   int64  \n",
      " 32  num_crossposts                 7527 non-null   int64  \n",
      " 33  over_18                        7527 non-null   bool   \n",
      " 34  parent_whitelist_status        7527 non-null   object \n",
      " 35  permalink                      7527 non-null   object \n",
      " 36  pinned                         7527 non-null   bool   \n",
      " 37  pwls                           7527 non-null   int64  \n",
      " 38  removed_by_category            177 non-null    object \n",
      " 39  retrieved_on                   7527 non-null   int64  \n",
      " 40  score                          7527 non-null   int64  \n",
      " 41  send_replies                   7527 non-null   bool   \n",
      " 42  spoiler                        7527 non-null   bool   \n",
      " 43  stickied                       7527 non-null   bool   \n",
      " 44  subreddit                      7527 non-null   object \n",
      " 45  subreddit_id                   7527 non-null   object \n",
      " 46  subreddit_subscribers          7527 non-null   int64  \n",
      " 47  subreddit_type                 7527 non-null   object \n",
      " 48  suggested_sort                 0 non-null      float64\n",
      " 49  thumbnail                      7527 non-null   object \n",
      " 50  title                          7527 non-null   object \n",
      " 51  total_awards_received          7527 non-null   int64  \n",
      " 52  treatment_tags                 5080 non-null   object \n",
      " 53  upvote_ratio                   4697 non-null   float64\n",
      " 54  url                            7527 non-null   object \n",
      " 55  whitelist_status               7527 non-null   object \n",
      " 56  wls                            7527 non-null   int64  \n",
      " 57  author_flair_richtext          7350 non-null   object \n",
      " 58  author_flair_type              7350 non-null   object \n",
      " 59  author_fullname                7350 non-null   object \n",
      " 60  author_patreon_flair           7350 non-null   object \n",
      " 61  author_premium                 7350 non-null   object \n",
      " 62  link_flair_css_class           0 non-null      float64\n",
      " 63  link_flair_template_id         2978 non-null   object \n",
      " 64  link_flair_text                2978 non-null   object \n",
      " 65  selftext                       7527 non-null   object \n",
      " 66  post_hint                      248 non-null    object \n",
      " 67  preview                        248 non-null    object \n",
      " 68  edited                         54 non-null     float64\n",
      " 69  crosspost_parent               13 non-null     object \n",
      " 70  crosspost_parent_list          13 non-null     object \n",
      " 71  url_overridden_by_dest         11 non-null     object \n",
      " 72  author_cakeday                 30 non-null     object \n",
      " 73  gilded                         1 non-null      float64\n",
      " 74  steward_reports                552 non-null    object \n",
      "dtypes: bool(18), float64(9), int64(10), object(38)\n",
      "memory usage: 3.4+ MB\n"
     ]
    }
   ],
   "source": [
    "ulpt_raw.info()"
   ]
  },
  {
   "cell_type": "code",
   "execution_count": 6,
   "metadata": {},
   "outputs": [
    {
     "data": {
      "text/html": [
       "<div>\n",
       "<style scoped>\n",
       "    .dataframe tbody tr th:only-of-type {\n",
       "        vertical-align: middle;\n",
       "    }\n",
       "\n",
       "    .dataframe tbody tr th {\n",
       "        vertical-align: top;\n",
       "    }\n",
       "\n",
       "    .dataframe thead th {\n",
       "        text-align: right;\n",
       "    }\n",
       "</style>\n",
       "<table border=\"1\" class=\"dataframe\">\n",
       "  <thead>\n",
       "    <tr style=\"text-align: right;\">\n",
       "      <th></th>\n",
       "      <th>title</th>\n",
       "      <th>selftext</th>\n",
       "      <th>subreddit</th>\n",
       "    </tr>\n",
       "  </thead>\n",
       "  <tbody>\n",
       "    <tr>\n",
       "      <th>0</th>\n",
       "      <td>LPT: When packing for a move, use your clothes...</td>\n",
       "      <td>Most people will unpack the kitchen early on, ...</td>\n",
       "      <td>LifeProTips</td>\n",
       "    </tr>\n",
       "    <tr>\n",
       "      <th>1</th>\n",
       "      <td>LPT: To avoid giving clicks/views to clickbait...</td>\n",
       "      <td>Most of the time it will give you the name of ...</td>\n",
       "      <td>LifeProTips</td>\n",
       "    </tr>\n",
       "    <tr>\n",
       "      <th>2</th>\n",
       "      <td>LPT: Kindness is not weakness.</td>\n",
       "      <td>Before I go on, I hope this doesn’t get taken ...</td>\n",
       "      <td>LifeProTips</td>\n",
       "    </tr>\n",
       "    <tr>\n",
       "      <th>3</th>\n",
       "      <td>LPT: Bought online and shipping delayed? Check...</td>\n",
       "      <td>For example- I ordered several times from Newe...</td>\n",
       "      <td>LifeProTips</td>\n",
       "    </tr>\n",
       "    <tr>\n",
       "      <th>4</th>\n",
       "      <td>LPT: Guys, if you are on a date with a girl, s...</td>\n",
       "      <td>(If physical attraction and all that is there ...</td>\n",
       "      <td>LifeProTips</td>\n",
       "    </tr>\n",
       "  </tbody>\n",
       "</table>\n",
       "</div>"
      ],
      "text/plain": [
       "                                               title  \\\n",
       "0  LPT: When packing for a move, use your clothes...   \n",
       "1  LPT: To avoid giving clicks/views to clickbait...   \n",
       "2                     LPT: Kindness is not weakness.   \n",
       "3  LPT: Bought online and shipping delayed? Check...   \n",
       "4  LPT: Guys, if you are on a date with a girl, s...   \n",
       "\n",
       "                                            selftext    subreddit  \n",
       "0  Most people will unpack the kitchen early on, ...  LifeProTips  \n",
       "1  Most of the time it will give you the name of ...  LifeProTips  \n",
       "2  Before I go on, I hope this doesn’t get taken ...  LifeProTips  \n",
       "3  For example- I ordered several times from Newe...  LifeProTips  \n",
       "4  (If physical attraction and all that is there ...  LifeProTips  "
      ]
     },
     "execution_count": 6,
     "metadata": {},
     "output_type": "execute_result"
    }
   ],
   "source": [
    "#Both dataframes have full title, selftext, and subreddit columns. This is where I will start.\n",
    "lpt_df = lpt_raw[['title', 'selftext', 'subreddit']]\n",
    "ulpt_df = ulpt_raw[['title', 'selftext', 'subreddit']]\n",
    "lpt_df.head()"
   ]
  },
  {
   "cell_type": "code",
   "execution_count": 7,
   "metadata": {},
   "outputs": [
    {
     "data": {
      "text/html": [
       "<div>\n",
       "<style scoped>\n",
       "    .dataframe tbody tr th:only-of-type {\n",
       "        vertical-align: middle;\n",
       "    }\n",
       "\n",
       "    .dataframe tbody tr th {\n",
       "        vertical-align: top;\n",
       "    }\n",
       "\n",
       "    .dataframe thead th {\n",
       "        text-align: right;\n",
       "    }\n",
       "</style>\n",
       "<table border=\"1\" class=\"dataframe\">\n",
       "  <thead>\n",
       "    <tr style=\"text-align: right;\">\n",
       "      <th></th>\n",
       "      <th>title</th>\n",
       "      <th>selftext</th>\n",
       "      <th>subreddit</th>\n",
       "    </tr>\n",
       "  </thead>\n",
       "  <tbody>\n",
       "    <tr>\n",
       "      <th>0</th>\n",
       "      <td>ULPT Request: Tax fraud on Mercari?</td>\n",
       "      <td>So, I make a lot of money off mercari. And it ...</td>\n",
       "      <td>UnethicalLifeProTips</td>\n",
       "    </tr>\n",
       "    <tr>\n",
       "      <th>1</th>\n",
       "      <td>ULPT: HOW TO GET CONSISTENT SEX</td>\n",
       "      <td>psa: this probably works best if your single\\n...</td>\n",
       "      <td>UnethicalLifeProTips</td>\n",
       "    </tr>\n",
       "    <tr>\n",
       "      <th>2</th>\n",
       "      <td>ULPT Request: Need to fuck with someone’s head.</td>\n",
       "      <td>Someone I know is being an asshole and trollin...</td>\n",
       "      <td>UnethicalLifeProTips</td>\n",
       "    </tr>\n",
       "    <tr>\n",
       "      <th>3</th>\n",
       "      <td>ULPT REQUEST: how do I get someone fired from ...</td>\n",
       "      <td>how can I get someone fired from their current...</td>\n",
       "      <td>UnethicalLifeProTips</td>\n",
       "    </tr>\n",
       "    <tr>\n",
       "      <th>4</th>\n",
       "      <td>ULPT Request: Calling in sick at work</td>\n",
       "      <td>Hey guys, I've got some exams coming up in a f...</td>\n",
       "      <td>UnethicalLifeProTips</td>\n",
       "    </tr>\n",
       "  </tbody>\n",
       "</table>\n",
       "</div>"
      ],
      "text/plain": [
       "                                               title  \\\n",
       "0                ULPT Request: Tax fraud on Mercari?   \n",
       "1                    ULPT: HOW TO GET CONSISTENT SEX   \n",
       "2    ULPT Request: Need to fuck with someone’s head.   \n",
       "3  ULPT REQUEST: how do I get someone fired from ...   \n",
       "4              ULPT Request: Calling in sick at work   \n",
       "\n",
       "                                            selftext             subreddit  \n",
       "0  So, I make a lot of money off mercari. And it ...  UnethicalLifeProTips  \n",
       "1  psa: this probably works best if your single\\n...  UnethicalLifeProTips  \n",
       "2  Someone I know is being an asshole and trollin...  UnethicalLifeProTips  \n",
       "3  how can I get someone fired from their current...  UnethicalLifeProTips  \n",
       "4  Hey guys, I've got some exams coming up in a f...  UnethicalLifeProTips  "
      ]
     },
     "execution_count": 7,
     "metadata": {},
     "output_type": "execute_result"
    }
   ],
   "source": [
    "ulpt_df.head()"
   ]
  },
  {
   "cell_type": "markdown",
   "metadata": {},
   "source": [
    "It has come to my attention that each of the posts in the subreddits start with either LPT or ULPT. This is an issue, as it will essentially flag the post right away when my classifier wants to check if it is LPT or ULPT. I need to deal with this somehow:"
   ]
  },
  {
   "cell_type": "code",
   "execution_count": 8,
   "metadata": {},
   "outputs": [
    {
     "data": {
      "text/plain": [
       "0.9915145281563383"
      ]
     },
     "execution_count": 8,
     "metadata": {},
     "output_type": "execute_result"
    }
   ],
   "source": [
    "len(lpt_df[lpt_df['title'].str.contains('LPT')])/len(lpt_df)"
   ]
  },
  {
   "cell_type": "code",
   "execution_count": 9,
   "metadata": {},
   "outputs": [
    {
     "data": {
      "text/plain": [
       "0.9602763385146805"
      ]
     },
     "execution_count": 9,
     "metadata": {},
     "output_type": "execute_result"
    }
   ],
   "source": [
    "len(ulpt_df[(ulpt_df['title'].str.contains('LPT' or 'ULPT'))])/len(ulpt_df)"
   ]
  },
  {
   "cell_type": "code",
   "execution_count": 10,
   "metadata": {},
   "outputs": [],
   "source": [
    "#99% of LPTs and 96% of ULPTs have the respective word in the title. Let's remove them."
   ]
  },
  {
   "cell_type": "code",
   "execution_count": 11,
   "metadata": {},
   "outputs": [
    {
     "name": "stderr",
     "output_type": "stream",
     "text": [
      "<ipython-input-11-543374d79693>:2: SettingWithCopyWarning: \n",
      "A value is trying to be set on a copy of a slice from a DataFrame.\n",
      "Try using .loc[row_indexer,col_indexer] = value instead\n",
      "\n",
      "See the caveats in the documentation: https://pandas.pydata.org/pandas-docs/stable/user_guide/indexing.html#returning-a-view-versus-a-copy\n",
      "  lpt_df['title'] = lpt_df['title'].str.lower().str.strip(r'?u[lpt]')\n",
      "<ipython-input-11-543374d79693>:3: SettingWithCopyWarning: \n",
      "A value is trying to be set on a copy of a slice from a DataFrame.\n",
      "Try using .loc[row_indexer,col_indexer] = value instead\n",
      "\n",
      "See the caveats in the documentation: https://pandas.pydata.org/pandas-docs/stable/user_guide/indexing.html#returning-a-view-versus-a-copy\n",
      "  lpt_df['selftext'] = lpt_df['selftext'].str.lower().str.strip(r'?u[lpt]')\n"
     ]
    }
   ],
   "source": [
    "#looks like we might want to strip lpt and ulpt from the dataframes - here we use regex to get all instances of it in the title and post text:\n",
    "lpt_df['title'] = lpt_df['title'].str.lower().str.strip(r'?u[lpt]')\n",
    "lpt_df['selftext'] = lpt_df['selftext'].str.lower().str.strip(r'?u[lpt]')"
   ]
  },
  {
   "cell_type": "markdown",
   "metadata": {},
   "source": [
    "Somehow my regex only caught most of them:"
   ]
  },
  {
   "cell_type": "code",
   "execution_count": 12,
   "metadata": {},
   "outputs": [
    {
     "data": {
      "text/plain": [
       "179"
      ]
     },
     "execution_count": 12,
     "metadata": {},
     "output_type": "execute_result"
    }
   ],
   "source": [
    "len(lpt_df[lpt_df['selftext'].str.contains('lpt')])"
   ]
  },
  {
   "cell_type": "markdown",
   "metadata": {},
   "source": [
    "So let's strip again:"
   ]
  },
  {
   "cell_type": "code",
   "execution_count": 13,
   "metadata": {},
   "outputs": [
    {
     "name": "stderr",
     "output_type": "stream",
     "text": [
      "<ipython-input-13-9351debd047b>:1: SettingWithCopyWarning: \n",
      "A value is trying to be set on a copy of a slice from a DataFrame.\n",
      "Try using .loc[row_indexer,col_indexer] = value instead\n",
      "\n",
      "See the caveats in the documentation: https://pandas.pydata.org/pandas-docs/stable/user_guide/indexing.html#returning-a-view-versus-a-copy\n",
      "  ulpt_df['title'] = ulpt_df['title'].str.lower().str.strip(r'?u[lpt]')\n",
      "<ipython-input-13-9351debd047b>:2: SettingWithCopyWarning: \n",
      "A value is trying to be set on a copy of a slice from a DataFrame.\n",
      "Try using .loc[row_indexer,col_indexer] = value instead\n",
      "\n",
      "See the caveats in the documentation: https://pandas.pydata.org/pandas-docs/stable/user_guide/indexing.html#returning-a-view-versus-a-copy\n",
      "  ulpt_df['selftext'] = ulpt_df['selftext'].str.lower().str.strip(r'?u[lpt]')\n"
     ]
    }
   ],
   "source": [
    "ulpt_df['title'] = ulpt_df['title'].str.lower().str.strip(r'?u[lpt]')\n",
    "ulpt_df['selftext'] = ulpt_df['selftext'].str.lower().str.strip(r'?u[lpt]')"
   ]
  },
  {
   "cell_type": "markdown",
   "metadata": {},
   "source": [
    "ULPT threads also contain some lpt references. We might want to remove these as they probably will confuse my future algorithm, and in the real world attempting to identify unethical text, there is a low probability that it will be coming from the LPT or ULPT community on Reddit anyway:"
   ]
  },
  {
   "cell_type": "code",
   "execution_count": 14,
   "metadata": {},
   "outputs": [
    {
     "data": {
      "text/plain": [
       "154"
      ]
     },
     "execution_count": 14,
     "metadata": {},
     "output_type": "execute_result"
    }
   ],
   "source": [
    "len(ulpt_df[ulpt_df['selftext'].str.contains('lpt')])"
   ]
  },
  {
   "cell_type": "code",
   "execution_count": 15,
   "metadata": {},
   "outputs": [
    {
     "name": "stderr",
     "output_type": "stream",
     "text": [
      "/Users/Keith/miniconda3/lib/python3.8/site-packages/pandas/core/frame.py:4305: SettingWithCopyWarning: \n",
      "A value is trying to be set on a copy of a slice from a DataFrame\n",
      "\n",
      "See the caveats in the documentation: https://pandas.pydata.org/pandas-docs/stable/user_guide/indexing.html#returning-a-view-versus-a-copy\n",
      "  return super().drop(\n"
     ]
    }
   ],
   "source": [
    "#Let's drop all the instances of lpt and ulpt we can find:\n",
    "lpt_df.drop(lpt_df[lpt_df['title'].str.contains(r'(?i)lpt')].index, inplace=True)\n",
    "lpt_df.drop(lpt_df[lpt_df['selftext'].str.contains(r'(?i)lpt')].index, inplace=True)\n",
    "ulpt_df.drop(ulpt_df[ulpt_df['title'].str.lower().str.contains('ulpt')].index, inplace=True)\n",
    "ulpt_df.drop(ulpt_df[ulpt_df['selftext'].str.lower().str.contains('ulpt')].index, inplace=True)\n",
    "ulpt_df.drop(ulpt_df[ulpt_df['title'].str.lower().str.contains('lpt')].index, inplace=True)\n",
    "ulpt_df.drop(ulpt_df[ulpt_df['selftext'].str.lower().str.contains('lpt')].index, inplace=True)"
   ]
  },
  {
   "cell_type": "code",
   "execution_count": 16,
   "metadata": {},
   "outputs": [
    {
     "data": {
      "text/plain": [
       "(7562, 3)"
      ]
     },
     "execution_count": 16,
     "metadata": {},
     "output_type": "execute_result"
    }
   ],
   "source": [
    "lpt_df.shape"
   ]
  },
  {
   "cell_type": "code",
   "execution_count": 17,
   "metadata": {},
   "outputs": [
    {
     "data": {
      "text/plain": [
       "(7346, 3)"
      ]
     },
     "execution_count": 17,
     "metadata": {},
     "output_type": "execute_result"
    }
   ],
   "source": [
    "ulpt_df.shape"
   ]
  },
  {
   "cell_type": "markdown",
   "metadata": {},
   "source": [
    "Let's verify if there is actually any lpt anywhere in the title or text:"
   ]
  },
  {
   "cell_type": "code",
   "execution_count": 18,
   "metadata": {},
   "outputs": [
    {
     "data": {
      "text/html": [
       "<div>\n",
       "<style scoped>\n",
       "    .dataframe tbody tr th:only-of-type {\n",
       "        vertical-align: middle;\n",
       "    }\n",
       "\n",
       "    .dataframe tbody tr th {\n",
       "        vertical-align: top;\n",
       "    }\n",
       "\n",
       "    .dataframe thead th {\n",
       "        text-align: right;\n",
       "    }\n",
       "</style>\n",
       "<table border=\"1\" class=\"dataframe\">\n",
       "  <thead>\n",
       "    <tr style=\"text-align: right;\">\n",
       "      <th></th>\n",
       "      <th>title</th>\n",
       "      <th>selftext</th>\n",
       "      <th>subreddit</th>\n",
       "    </tr>\n",
       "  </thead>\n",
       "  <tbody>\n",
       "  </tbody>\n",
       "</table>\n",
       "</div>"
      ],
      "text/plain": [
       "Empty DataFrame\n",
       "Columns: [title, selftext, subreddit]\n",
       "Index: []"
      ]
     },
     "execution_count": 18,
     "metadata": {},
     "output_type": "execute_result"
    }
   ],
   "source": [
    "lpt_df[lpt_df['title'].str.contains(r'(?i)lpt')]"
   ]
  },
  {
   "cell_type": "code",
   "execution_count": 19,
   "metadata": {},
   "outputs": [
    {
     "data": {
      "text/html": [
       "<div>\n",
       "<style scoped>\n",
       "    .dataframe tbody tr th:only-of-type {\n",
       "        vertical-align: middle;\n",
       "    }\n",
       "\n",
       "    .dataframe tbody tr th {\n",
       "        vertical-align: top;\n",
       "    }\n",
       "\n",
       "    .dataframe thead th {\n",
       "        text-align: right;\n",
       "    }\n",
       "</style>\n",
       "<table border=\"1\" class=\"dataframe\">\n",
       "  <thead>\n",
       "    <tr style=\"text-align: right;\">\n",
       "      <th></th>\n",
       "      <th>title</th>\n",
       "      <th>selftext</th>\n",
       "      <th>subreddit</th>\n",
       "    </tr>\n",
       "  </thead>\n",
       "  <tbody>\n",
       "  </tbody>\n",
       "</table>\n",
       "</div>"
      ],
      "text/plain": [
       "Empty DataFrame\n",
       "Columns: [title, selftext, subreddit]\n",
       "Index: []"
      ]
     },
     "execution_count": 19,
     "metadata": {},
     "output_type": "execute_result"
    }
   ],
   "source": [
    "lpt_df[lpt_df['selftext'].str.contains(r'(?i)lpt')]"
   ]
  },
  {
   "cell_type": "code",
   "execution_count": 26,
   "metadata": {},
   "outputs": [
    {
     "data": {
      "text/html": [
       "<div>\n",
       "<style scoped>\n",
       "    .dataframe tbody tr th:only-of-type {\n",
       "        vertical-align: middle;\n",
       "    }\n",
       "\n",
       "    .dataframe tbody tr th {\n",
       "        vertical-align: top;\n",
       "    }\n",
       "\n",
       "    .dataframe thead th {\n",
       "        text-align: right;\n",
       "    }\n",
       "</style>\n",
       "<table border=\"1\" class=\"dataframe\">\n",
       "  <thead>\n",
       "    <tr style=\"text-align: right;\">\n",
       "      <th></th>\n",
       "      <th>title</th>\n",
       "      <th>selftext</th>\n",
       "      <th>subreddit</th>\n",
       "    </tr>\n",
       "  </thead>\n",
       "  <tbody>\n",
       "  </tbody>\n",
       "</table>\n",
       "</div>"
      ],
      "text/plain": [
       "Empty DataFrame\n",
       "Columns: [title, selftext, subreddit]\n",
       "Index: []"
      ]
     },
     "execution_count": 26,
     "metadata": {},
     "output_type": "execute_result"
    }
   ],
   "source": [
    "ulpt_df[ulpt_df['title'].str.contains(r'(?i)lpt')]"
   ]
  },
  {
   "cell_type": "code",
   "execution_count": 20,
   "metadata": {},
   "outputs": [
    {
     "name": "stderr",
     "output_type": "stream",
     "text": [
      "/Users/Keith/miniconda3/lib/python3.8/site-packages/pandas/core/frame.py:4305: SettingWithCopyWarning: \n",
      "A value is trying to be set on a copy of a slice from a DataFrame\n",
      "\n",
      "See the caveats in the documentation: https://pandas.pydata.org/pandas-docs/stable/user_guide/indexing.html#returning-a-view-versus-a-copy\n",
      "  return super().drop(\n"
     ]
    }
   ],
   "source": [
    "#Dropping all the 'u's with spaces in case there was a ulpt somewhere in there that got cut to just u\n",
    "ulpt_df.drop(ulpt_df[ulpt_df['selftext'].str.contains(r'(?i) u ')].index, inplace=True)"
   ]
  },
  {
   "cell_type": "code",
   "execution_count": 21,
   "metadata": {},
   "outputs": [
    {
     "data": {
      "text/plain": [
       "7312"
      ]
     },
     "execution_count": 21,
     "metadata": {},
     "output_type": "execute_result"
    }
   ],
   "source": [
    "len(ulpt_df)"
   ]
  },
  {
   "cell_type": "markdown",
   "metadata": {},
   "source": [
    "Let's inspect our new dataframes:"
   ]
  },
  {
   "cell_type": "code",
   "execution_count": 24,
   "metadata": {},
   "outputs": [
    {
     "data": {
      "text/html": [
       "<div>\n",
       "<style scoped>\n",
       "    .dataframe tbody tr th:only-of-type {\n",
       "        vertical-align: middle;\n",
       "    }\n",
       "\n",
       "    .dataframe tbody tr th {\n",
       "        vertical-align: top;\n",
       "    }\n",
       "\n",
       "    .dataframe thead th {\n",
       "        text-align: right;\n",
       "    }\n",
       "</style>\n",
       "<table border=\"1\" class=\"dataframe\">\n",
       "  <thead>\n",
       "    <tr style=\"text-align: right;\">\n",
       "      <th></th>\n",
       "      <th>title</th>\n",
       "      <th>selftext</th>\n",
       "      <th>subreddit</th>\n",
       "    </tr>\n",
       "  </thead>\n",
       "  <tbody>\n",
       "    <tr>\n",
       "      <th>0</th>\n",
       "      <td>: when packing for a move, use your clothes to...</td>\n",
       "      <td>most people will unpack the kitchen early on, ...</td>\n",
       "      <td>LifeProTips</td>\n",
       "    </tr>\n",
       "    <tr>\n",
       "      <th>1</th>\n",
       "      <td>: to avoid giving clicks/views to clickbaity n...</td>\n",
       "      <td>most of the time it will give you the name of ...</td>\n",
       "      <td>LifeProTips</td>\n",
       "    </tr>\n",
       "    <tr>\n",
       "      <th>2</th>\n",
       "      <td>: kindness is not weakness.</td>\n",
       "      <td>before i go on, i hope this doesn’t get taken ...</td>\n",
       "      <td>LifeProTips</td>\n",
       "    </tr>\n",
       "    <tr>\n",
       "      <th>3</th>\n",
       "      <td>: bought online and shipping delayed? check gu...</td>\n",
       "      <td>for example- i ordered several times from newe...</td>\n",
       "      <td>LifeProTips</td>\n",
       "    </tr>\n",
       "    <tr>\n",
       "      <th>4</th>\n",
       "      <td>: guys, if you are on a date with a girl, shut...</td>\n",
       "      <td>(if physical attraction and all that is there ...</td>\n",
       "      <td>LifeProTips</td>\n",
       "    </tr>\n",
       "  </tbody>\n",
       "</table>\n",
       "</div>"
      ],
      "text/plain": [
       "                                               title  \\\n",
       "0  : when packing for a move, use your clothes to...   \n",
       "1  : to avoid giving clicks/views to clickbaity n...   \n",
       "2                        : kindness is not weakness.   \n",
       "3  : bought online and shipping delayed? check gu...   \n",
       "4  : guys, if you are on a date with a girl, shut...   \n",
       "\n",
       "                                            selftext    subreddit  \n",
       "0  most people will unpack the kitchen early on, ...  LifeProTips  \n",
       "1  most of the time it will give you the name of ...  LifeProTips  \n",
       "2  before i go on, i hope this doesn’t get taken ...  LifeProTips  \n",
       "3  for example- i ordered several times from newe...  LifeProTips  \n",
       "4  (if physical attraction and all that is there ...  LifeProTips  "
      ]
     },
     "execution_count": 24,
     "metadata": {},
     "output_type": "execute_result"
    }
   ],
   "source": [
    "lpt_df.head()"
   ]
  },
  {
   "cell_type": "code",
   "execution_count": 25,
   "metadata": {},
   "outputs": [
    {
     "data": {
      "text/html": [
       "<div>\n",
       "<style scoped>\n",
       "    .dataframe tbody tr th:only-of-type {\n",
       "        vertical-align: middle;\n",
       "    }\n",
       "\n",
       "    .dataframe tbody tr th {\n",
       "        vertical-align: top;\n",
       "    }\n",
       "\n",
       "    .dataframe thead th {\n",
       "        text-align: right;\n",
       "    }\n",
       "</style>\n",
       "<table border=\"1\" class=\"dataframe\">\n",
       "  <thead>\n",
       "    <tr style=\"text-align: right;\">\n",
       "      <th></th>\n",
       "      <th>title</th>\n",
       "      <th>selftext</th>\n",
       "      <th>subreddit</th>\n",
       "    </tr>\n",
       "  </thead>\n",
       "  <tbody>\n",
       "    <tr>\n",
       "      <th>0</th>\n",
       "      <td>request: tax fraud on mercari</td>\n",
       "      <td>so, i make a lot of money off mercari. and it ...</td>\n",
       "      <td>UnethicalLifeProTips</td>\n",
       "    </tr>\n",
       "    <tr>\n",
       "      <th>1</th>\n",
       "      <td>: how to get consistent sex</td>\n",
       "      <td>sa: this probably works best if your single\\n\\...</td>\n",
       "      <td>UnethicalLifeProTips</td>\n",
       "    </tr>\n",
       "    <tr>\n",
       "      <th>2</th>\n",
       "      <td>request: need to fuck with someone’s head.</td>\n",
       "      <td>someone i know is being an asshole and trollin...</td>\n",
       "      <td>UnethicalLifeProTips</td>\n",
       "    </tr>\n",
       "    <tr>\n",
       "      <th>3</th>\n",
       "      <td>request: how do i get someone fired from thei...</td>\n",
       "      <td>how can i get someone fired from their current...</td>\n",
       "      <td>UnethicalLifeProTips</td>\n",
       "    </tr>\n",
       "    <tr>\n",
       "      <th>4</th>\n",
       "      <td>request: calling in sick at work</td>\n",
       "      <td>hey guys, i've got some exams coming up in a f...</td>\n",
       "      <td>UnethicalLifeProTips</td>\n",
       "    </tr>\n",
       "  </tbody>\n",
       "</table>\n",
       "</div>"
      ],
      "text/plain": [
       "                                               title  \\\n",
       "0                      request: tax fraud on mercari   \n",
       "1                        : how to get consistent sex   \n",
       "2         request: need to fuck with someone’s head.   \n",
       "3   request: how do i get someone fired from thei...   \n",
       "4                   request: calling in sick at work   \n",
       "\n",
       "                                            selftext             subreddit  \n",
       "0  so, i make a lot of money off mercari. and it ...  UnethicalLifeProTips  \n",
       "1  sa: this probably works best if your single\\n\\...  UnethicalLifeProTips  \n",
       "2  someone i know is being an asshole and trollin...  UnethicalLifeProTips  \n",
       "3  how can i get someone fired from their current...  UnethicalLifeProTips  \n",
       "4  hey guys, i've got some exams coming up in a f...  UnethicalLifeProTips  "
      ]
     },
     "execution_count": 25,
     "metadata": {},
     "output_type": "execute_result"
    }
   ],
   "source": [
    "ulpt_df.head()"
   ]
  },
  {
   "cell_type": "code",
   "execution_count": 26,
   "metadata": {},
   "outputs": [
    {
     "data": {
      "text/html": [
       "<div>\n",
       "<style scoped>\n",
       "    .dataframe tbody tr th:only-of-type {\n",
       "        vertical-align: middle;\n",
       "    }\n",
       "\n",
       "    .dataframe tbody tr th {\n",
       "        vertical-align: top;\n",
       "    }\n",
       "\n",
       "    .dataframe thead th {\n",
       "        text-align: right;\n",
       "    }\n",
       "</style>\n",
       "<table border=\"1\" class=\"dataframe\">\n",
       "  <thead>\n",
       "    <tr style=\"text-align: right;\">\n",
       "      <th></th>\n",
       "      <th>index</th>\n",
       "      <th>title</th>\n",
       "      <th>selftext</th>\n",
       "      <th>subreddit</th>\n",
       "    </tr>\n",
       "  </thead>\n",
       "  <tbody>\n",
       "    <tr>\n",
       "      <th>0</th>\n",
       "      <td>0</td>\n",
       "      <td>: when packing for a move, use your clothes to...</td>\n",
       "      <td>most people will unpack the kitchen early on, ...</td>\n",
       "      <td>LifeProTips</td>\n",
       "    </tr>\n",
       "    <tr>\n",
       "      <th>1</th>\n",
       "      <td>1</td>\n",
       "      <td>: to avoid giving clicks/views to clickbaity n...</td>\n",
       "      <td>most of the time it will give you the name of ...</td>\n",
       "      <td>LifeProTips</td>\n",
       "    </tr>\n",
       "    <tr>\n",
       "      <th>2</th>\n",
       "      <td>2</td>\n",
       "      <td>: kindness is not weakness.</td>\n",
       "      <td>before i go on, i hope this doesn’t get taken ...</td>\n",
       "      <td>LifeProTips</td>\n",
       "    </tr>\n",
       "    <tr>\n",
       "      <th>3</th>\n",
       "      <td>3</td>\n",
       "      <td>: bought online and shipping delayed? check gu...</td>\n",
       "      <td>for example- i ordered several times from newe...</td>\n",
       "      <td>LifeProTips</td>\n",
       "    </tr>\n",
       "    <tr>\n",
       "      <th>4</th>\n",
       "      <td>4</td>\n",
       "      <td>: guys, if you are on a date with a girl, shut...</td>\n",
       "      <td>(if physical attraction and all that is there ...</td>\n",
       "      <td>LifeProTips</td>\n",
       "    </tr>\n",
       "  </tbody>\n",
       "</table>\n",
       "</div>"
      ],
      "text/plain": [
       "   index                                              title  \\\n",
       "0      0  : when packing for a move, use your clothes to...   \n",
       "1      1  : to avoid giving clicks/views to clickbaity n...   \n",
       "2      2                        : kindness is not weakness.   \n",
       "3      3  : bought online and shipping delayed? check gu...   \n",
       "4      4  : guys, if you are on a date with a girl, shut...   \n",
       "\n",
       "                                            selftext    subreddit  \n",
       "0  most people will unpack the kitchen early on, ...  LifeProTips  \n",
       "1  most of the time it will give you the name of ...  LifeProTips  \n",
       "2  before i go on, i hope this doesn’t get taken ...  LifeProTips  \n",
       "3  for example- i ordered several times from newe...  LifeProTips  \n",
       "4  (if physical attraction and all that is there ...  LifeProTips  "
      ]
     },
     "execution_count": 26,
     "metadata": {},
     "output_type": "execute_result"
    }
   ],
   "source": [
    "lpt_df.to_csv('./data/lpt_cleaned.csv')\n",
    "ulpt_df.to_csv('./data/ulpt_cleaned.csv')\n",
    "both_df = pd.concat([lpt_df, ulpt_df])\n",
    "both_df.reset_index(inplace=True)\n",
    "both_df.head()"
   ]
  },
  {
   "cell_type": "code",
   "execution_count": 27,
   "metadata": {},
   "outputs": [],
   "source": [
    "both_df.drop('index', axis=1, inplace=True)"
   ]
  },
  {
   "cell_type": "code",
   "execution_count": 28,
   "metadata": {},
   "outputs": [
    {
     "name": "stdout",
     "output_type": "stream",
     "text": [
      "<class 'pandas.core.frame.DataFrame'>\n",
      "RangeIndex: 14874 entries, 0 to 14873\n",
      "Data columns (total 3 columns):\n",
      " #   Column     Non-Null Count  Dtype \n",
      "---  ------     --------------  ----- \n",
      " 0   title      14874 non-null  object\n",
      " 1   selftext   14874 non-null  object\n",
      " 2   subreddit  14874 non-null  object\n",
      "dtypes: object(3)\n",
      "memory usage: 348.7+ KB\n"
     ]
    }
   ],
   "source": [
    "both_df.info()"
   ]
  },
  {
   "cell_type": "code",
   "execution_count": 29,
   "metadata": {},
   "outputs": [],
   "source": [
    "both_df.to_csv('./data/both_cleaned.csv')"
   ]
  },
  {
   "cell_type": "markdown",
   "metadata": {},
   "source": [
    "Great. Now we have separate clean dataframes ready for analysis and modeling. Please Continue on to notebook 03."
   ]
  },
  {
   "cell_type": "code",
   "execution_count": null,
   "metadata": {},
   "outputs": [],
   "source": []
  }
 ],
 "metadata": {
  "kernelspec": {
   "display_name": "Python 3",
   "language": "python",
   "name": "python3"
  },
  "language_info": {
   "codemirror_mode": {
    "name": "ipython",
    "version": 3
   },
   "file_extension": ".py",
   "mimetype": "text/x-python",
   "name": "python",
   "nbconvert_exporter": "python",
   "pygments_lexer": "ipython3",
   "version": "3.8.3"
  }
 },
 "nbformat": 4,
 "nbformat_minor": 4
}
