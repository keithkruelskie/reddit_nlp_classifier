{
 "cells": [
  {
   "cell_type": "code",
   "execution_count": 1,
   "metadata": {},
   "outputs": [],
   "source": [
    "#This notebook reads in our dataframes, and returns a trimmed dataframe. The goal is to have dataframes that do not have any Nans or '[removed]' posts, so that we\n",
    "#can analyze them."
   ]
  },
  {
   "cell_type": "code",
   "execution_count": 2,
   "metadata": {},
   "outputs": [],
   "source": [
    "import pandas as pd\n",
    "import numpy as np"
   ]
  },
  {
   "cell_type": "code",
   "execution_count": 4,
   "metadata": {},
   "outputs": [
    {
     "name": "stderr",
     "output_type": "stream",
     "text": [
      "/Users/Keith/miniconda3/lib/python3.8/site-packages/IPython/core/interactiveshell.py:3146: DtypeWarning: Columns (71) have mixed types.Specify dtype option on import or set low_memory=False.\n",
      "  has_raised = await self.run_ast_nodes(code_ast.body, cell_name,\n",
      "/Users/Keith/miniconda3/lib/python3.8/site-packages/IPython/core/interactiveshell.py:3146: DtypeWarning: Columns (6,52,71,74) have mixed types.Specify dtype option on import or set low_memory=False.\n",
      "  has_raised = await self.run_ast_nodes(code_ast.body, cell_name,\n"
     ]
    }
   ],
   "source": [
    "#Bring in the two dataframes\n",
    "lpt_raw = pd.read_csv('./data/lpt_df_2.csv', index_col=0)\n",
    "ulpt_raw = pd.read_csv('./data/ulpt_df_2.csv', index_col = 0)"
   ]
  },
  {
   "cell_type": "code",
   "execution_count": 5,
   "metadata": {},
   "outputs": [
    {
     "name": "stdout",
     "output_type": "stream",
     "text": [
      "<class 'pandas.core.frame.DataFrame'>\n",
      "Int64Index: 19500 entries, 0 to 99\n",
      "Data columns (total 71 columns):\n",
      " #   Column                         Non-Null Count  Dtype  \n",
      "---  ------                         --------------  -----  \n",
      " 0   all_awardings                  19500 non-null  object \n",
      " 1   allow_live_comments            19500 non-null  bool   \n",
      " 2   author                         19500 non-null  object \n",
      " 3   author_flair_background_color  0 non-null      float64\n",
      " 4   author_flair_css_class         0 non-null      float64\n",
      " 5   author_flair_text              0 non-null      float64\n",
      " 6   author_flair_text_color        693 non-null    object \n",
      " 7   awarders                       19500 non-null  object \n",
      " 8   banned_by                      496 non-null    object \n",
      " 9   can_mod_post                   19500 non-null  bool   \n",
      " 10  contest_mode                   19500 non-null  bool   \n",
      " 11  created_utc                    19500 non-null  int64  \n",
      " 12  domain                         19500 non-null  object \n",
      " 13  full_link                      19500 non-null  object \n",
      " 14  gildings                       19500 non-null  object \n",
      " 15  id                             19500 non-null  object \n",
      " 16  is_crosspostable               19500 non-null  bool   \n",
      " 17  is_meta                        19500 non-null  bool   \n",
      " 18  is_original_content            19500 non-null  bool   \n",
      " 19  is_reddit_media_domain         19500 non-null  bool   \n",
      " 20  is_robot_indexable             19500 non-null  bool   \n",
      " 21  is_self                        19500 non-null  bool   \n",
      " 22  is_video                       19500 non-null  bool   \n",
      " 23  link_flair_background_color    9960 non-null   object \n",
      " 24  link_flair_richtext            19500 non-null  object \n",
      " 25  link_flair_text_color          19500 non-null  object \n",
      " 26  link_flair_type                19500 non-null  object \n",
      " 27  locked                         19500 non-null  bool   \n",
      " 28  media_only                     19500 non-null  bool   \n",
      " 29  no_follow                      19500 non-null  bool   \n",
      " 30  num_comments                   19500 non-null  int64  \n",
      " 31  num_crossposts                 19500 non-null  int64  \n",
      " 32  over_18                        19500 non-null  bool   \n",
      " 33  parent_whitelist_status        19500 non-null  object \n",
      " 34  permalink                      19500 non-null  object \n",
      " 35  pinned                         19500 non-null  bool   \n",
      " 36  pwls                           19500 non-null  int64  \n",
      " 37  removed_by_category            8110 non-null   object \n",
      " 38  retrieved_on                   19500 non-null  int64  \n",
      " 39  score                          19500 non-null  int64  \n",
      " 40  send_replies                   19500 non-null  bool   \n",
      " 41  spoiler                        19500 non-null  bool   \n",
      " 42  stickied                       19500 non-null  bool   \n",
      " 43  subreddit                      19500 non-null  object \n",
      " 44  subreddit_id                   19500 non-null  object \n",
      " 45  subreddit_subscribers          19500 non-null  int64  \n",
      " 46  subreddit_type                 19500 non-null  object \n",
      " 47  suggested_sort                 19500 non-null  object \n",
      " 48  thumbnail                      19500 non-null  object \n",
      " 49  title                          19500 non-null  object \n",
      " 50  total_awards_received          19500 non-null  int64  \n",
      " 51  treatment_tags                 19500 non-null  object \n",
      " 52  upvote_ratio                   19500 non-null  float64\n",
      " 53  url                            19500 non-null  object \n",
      " 54  whitelist_status               19500 non-null  object \n",
      " 55  wls                            19500 non-null  int64  \n",
      " 56  author_flair_richtext          18807 non-null  object \n",
      " 57  author_flair_type              18807 non-null  object \n",
      " 58  author_fullname                18807 non-null  object \n",
      " 59  author_patreon_flair           18807 non-null  object \n",
      " 60  author_premium                 18807 non-null  object \n",
      " 61  link_flair_css_class           10086 non-null  object \n",
      " 62  link_flair_template_id         9960 non-null   object \n",
      " 63  link_flair_text                10105 non-null  object \n",
      " 64  selftext                       15207 non-null  object \n",
      " 65  post_hint                      1023 non-null   object \n",
      " 66  preview                        1023 non-null   object \n",
      " 67  author_cakeday                 92 non-null     object \n",
      " 68  edited                         213 non-null    float64\n",
      " 69  gilded                         6 non-null      float64\n",
      " 70  top_awarded_type               2 non-null      object \n",
      "dtypes: bool(18), float64(6), int64(9), object(38)\n",
      "memory usage: 8.4+ MB\n"
     ]
    }
   ],
   "source": [
    "#Investigating my dataframes:\n",
    "lpt_raw.info()"
   ]
  },
  {
   "cell_type": "code",
   "execution_count": 6,
   "metadata": {},
   "outputs": [
    {
     "data": {
      "text/plain": [
       "selftext  title\n",
       "False     False    15207\n",
       "True      False     4293\n",
       "dtype: int64"
      ]
     },
     "execution_count": 6,
     "metadata": {},
     "output_type": "execute_result"
    }
   ],
   "source": [
    "#Checking for nan values that may have slipped through:\n",
    "lpt_raw[['selftext', 'title']].isna().value_counts()"
   ]
  },
  {
   "cell_type": "code",
   "execution_count": 7,
   "metadata": {},
   "outputs": [
    {
     "data": {
      "text/plain": [
       "selftext  title\n",
       "False     False    17771\n",
       "True      False     4029\n",
       "dtype: int64"
      ]
     },
     "execution_count": 7,
     "metadata": {},
     "output_type": "execute_result"
    }
   ],
   "source": [
    "ulpt_raw[['selftext', 'title']].isna().value_counts()"
   ]
  },
  {
   "cell_type": "code",
   "execution_count": 8,
   "metadata": {},
   "outputs": [
    {
     "data": {
      "text/plain": [
       "15207"
      ]
     },
     "execution_count": 8,
     "metadata": {},
     "output_type": "execute_result"
    }
   ],
   "source": [
    "#Dropping and verifying the new length:\n",
    "lpt_raw.dropna(subset = ['selftext', 'title'], inplace=True)\n",
    "len(lpt_raw)"
   ]
  },
  {
   "cell_type": "code",
   "execution_count": 9,
   "metadata": {},
   "outputs": [
    {
     "data": {
      "text/plain": [
       "17771"
      ]
     },
     "execution_count": 9,
     "metadata": {},
     "output_type": "execute_result"
    }
   ],
   "source": [
    "ulpt_raw.dropna(subset = ['selftext', 'title'], inplace=True)\n",
    "len(ulpt_raw)"
   ]
  },
  {
   "cell_type": "code",
   "execution_count": 10,
   "metadata": {},
   "outputs": [
    {
     "data": {
      "text/plain": [
       "7778"
      ]
     },
     "execution_count": 10,
     "metadata": {},
     "output_type": "execute_result"
    }
   ],
   "source": [
    "#Check the length of each datafram without posts that are removed:\n",
    "len(lpt_raw[lpt_raw['selftext'] != '[removed]'])"
   ]
  },
  {
   "cell_type": "code",
   "execution_count": 11,
   "metadata": {},
   "outputs": [
    {
     "data": {
      "text/plain": [
       "7527"
      ]
     },
     "execution_count": 11,
     "metadata": {},
     "output_type": "execute_result"
    }
   ],
   "source": [
    "len(ulpt_raw[ulpt_raw['selftext'] != '[removed]'])"
   ]
  },
  {
   "cell_type": "code",
   "execution_count": 12,
   "metadata": {},
   "outputs": [],
   "source": [
    "#7500 posts each! Jackpot!"
   ]
  },
  {
   "cell_type": "code",
   "execution_count": 13,
   "metadata": {},
   "outputs": [],
   "source": [
    "#Creating our new trimmed dataframes:\n",
    "lpt_trimmed = lpt_raw[lpt_raw['selftext'] != '[removed]']\n",
    "ulpt_trimmed = ulpt_raw[ulpt_raw['selftext'] != '[removed]']"
   ]
  },
  {
   "cell_type": "code",
   "execution_count": 14,
   "metadata": {},
   "outputs": [
    {
     "data": {
      "text/plain": [
       "7778"
      ]
     },
     "execution_count": 14,
     "metadata": {},
     "output_type": "execute_result"
    }
   ],
   "source": [
    "#Triple checking our length:\n",
    "len(lpt_trimmed)"
   ]
  },
  {
   "cell_type": "code",
   "execution_count": 15,
   "metadata": {},
   "outputs": [
    {
     "data": {
      "text/plain": [
       "7527"
      ]
     },
     "execution_count": 15,
     "metadata": {},
     "output_type": "execute_result"
    }
   ],
   "source": [
    "len(ulpt_trimmed)"
   ]
  },
  {
   "cell_type": "code",
   "execution_count": 16,
   "metadata": {},
   "outputs": [],
   "source": [
    "#Exporting to the data folder:\n",
    "lpt_trimmed.to_csv('./data/lpt_trimmed.csv')\n",
    "ulpt_trimmed.to_csv('./data/ulpt_trimmed.csv')"
   ]
  },
  {
   "cell_type": "code",
   "execution_count": 17,
   "metadata": {},
   "outputs": [],
   "source": [
    "#End Result is that I have two dataframes _trimmed to ~ 7500 posts each. Hooray!"
   ]
  },
  {
   "cell_type": "code",
   "execution_count": null,
   "metadata": {},
   "outputs": [],
   "source": []
  }
 ],
 "metadata": {
  "kernelspec": {
   "display_name": "Python 3",
   "language": "python",
   "name": "python3"
  },
  "language_info": {
   "codemirror_mode": {
    "name": "ipython",
    "version": 3
   },
   "file_extension": ".py",
   "mimetype": "text/x-python",
   "name": "python",
   "nbconvert_exporter": "python",
   "pygments_lexer": "ipython3",
   "version": "3.8.3"
  }
 },
 "nbformat": 4,
 "nbformat_minor": 4
}
